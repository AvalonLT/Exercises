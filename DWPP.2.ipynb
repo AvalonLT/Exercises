{
  "nbformat": 4,
  "nbformat_minor": 0,
  "metadata": {
    "kernelspec": {
      "display_name": "Python 3",
      "language": "python",
      "name": "python3"
    },
    "language_info": {
      "codemirror_mode": {
        "name": "ipython",
        "version": 3
      },
      "file_extension": ".py",
      "mimetype": "text/x-python",
      "name": "python",
      "nbconvert_exporter": "python",
      "pygments_lexer": "ipython3",
      "version": "3.7.7"
    },
    "colab": {
      "name": "112b.ipynb",
      "provenance": [],
      "collapsed_sections": []
    }
  },
  "cells": [
    {
      "cell_type": "markdown",
      "metadata": {
        "id": "MuQPyNWQ0fNP"
      },
      "source": [
        "# Sprint 2: Diving deeper into Python\n",
        "## Part 2: Pig Latin Translator Project\n"
      ]
    },
    {
      "cell_type": "markdown",
      "metadata": {
        "id": "UkoovDvV0fNR"
      },
      "source": [
        "## About this Project\n",
        "\n",
        "In this Project, you will practice your Python skills to create a Pig Latin translator.\n",
        "\n",
        "Pig Latin (<http://mng.bz/YrON>) is a common children's \"secret\" language in English-speaking countries. (It's normally secret among children who forget that their parents were once children themselves.) The rules for translating words from English into Pig Latin are quite simple.\n",
        "\n",
        "The function should return the translation of this word into Pig Latin.\n",
        "\n",
        "This exercise isn't meant to help you translate documents into Pig Latin for your job. (If that is your job, then I really have to question your career choices.)\n",
        "However, it demonstrates some of the powerful techniques that you should know when working with sequences, including searches, iteration and slices.\n",
        "It's hard to imagine a Python program that doesn't include any of these techniques.\n",
        "\n",
        "For this exercise:\n",
        "\n",
        "- Write a function (`pig_latin`) that takes a string as input, which is assumed to be a sentence in English.\n",
        "\n",
        "  - If the word begins with a vowel, add \"way\" to the end of the word. So \"Air\" becomes \"Airway\" and \"eat\" becomes \"eatway\".\n",
        "  - If the word begins with any other letter, then we take the first letter, put it on the end of the word, and then add \"ay.\" If a word starts with capital letter, the newly created word should start with a capital letter as well, while the previously capitalised first letter should become lowercase. Capitalisation of other letters should not be changed. Thus, \"python\" becomes \"ythonpay\", \"PoS\" becomes \"OSpay\", and \"Computer\" becomes \"Omputercay\".\n",
        "  \n",
        "  - This function should return the new string Pig Latin sentence instead of printing it.\n",
        "\n",
        "- Write a program that repeatedly asks the user to enter their sentences. Each time the user enters a sentence, the program should convert it to Pig Latin using the `pig_latin` function and then print it out.\n",
        "- The program only exits after the user enters an empty string as an input.\n",
        "\n",
        "## Objectives for this Part\n",
        "\n",
        "- Practice solving problems using Python.\n",
        "- Practice writing concise and elegant Python code.\n",
        "- Practice using working with strings.\n",
        "- Practice using Python's control flow.\n",
        "\n",
        "## Requirements\n",
        "\n",
        "- Provide clear instructions for the user on how to use your application.\n",
        "- Use docstrings to describe what your functions do.\n",
        "- Use meaningful variable names.\n",
        "- Provide suggestions about how your code can be improved.\n",
        "\n",
        "## Evaluation Criteria\n",
        "\n",
        "- Adherence to the requirements. How well did you meet the requirements?\n",
        "- Code quality. Was your code well-structured? Did you use the appropriate levels of abstraction? Did you remove commented-out and unused code?\n",
        "- Code performance. Did you use suitable algorithms and data structures to solve the problems?\n",
        "\n",
        "## Sample Correction Questions\n",
        "\n",
        "During a correction, you may get asked questions that test your understanding of the topics covered.\n",
        "\n",
        "- What are the advantages of using defaultdict over dict?\n",
        "- What are the advantages of using deque over list?\n",
        "- How does the K-Means algorithm work? What is it used for?\n",
        "\n",
        "## Source\n",
        "\n",
        "This exercise is adapted from the Python Workout book by Reuven M. Lerner.\n",
        "\n",
        "\n",
        "<br>\n",
        "\n",
        "## Your Solution"
      ]
    },
    {
      "cell_type": "code",
      "metadata": {
        "id": "SJMrsPi90fNS"
      },
      "source": [
        "'''This programs ask you repeatedly enter english sentence and translates your sentence to pig latin.\n",
        "At first user input is checked weather if input is english sentence. If not user is asked to enter \n",
        "sentence again. Than input is passed to translate_to_pig_latin function to to translate sentence.\n",
        "However if input is empty string while loop is stopped and user exit the program this way.  \n",
        "    This function is split in two, because words which star with vowel and words which dont should be \n",
        "formed differently.\n",
        "    After translation is complete pig latin is printed on the screen'''\n",
        "\n",
        "def translate_to_pig_latin(sentence):\n",
        "    pig_latin_sentence = ''\n",
        "\n",
        "    for word in sentence.split():\n",
        "        if word[0] in ('a', 'e', 'i', 'o', 'u', 'A', 'E', 'I', 'O', 'U'):\n",
        "            pig_latin_sentence += word + 'way ' + '\\n'\n",
        "        else:\n",
        "            if word[0].isupper():\n",
        "                pig_latin_sentence += word[1].upper() + word[2:] + word[0].lower() + 'ay ' + '\\n'\n",
        "            else:\n",
        "                pig_latin_sentence += word[1] + word[2:] + word[0] + 'ay ' + '\\n'\n",
        "\n",
        "    return pig_latin_sentence\n",
        "\n",
        "\n",
        "while True:\n",
        "    print('Please enter word or couple words in english')\n",
        "    sentence = input()\n",
        "\n",
        "    if any(character.isdigit() for character in sentence):\n",
        "        print('\\n', 'Please use only letters', sep = '')\n",
        "        continue \n",
        "\n",
        "    if sentence == '': \n",
        "        break\n",
        "\n",
        "    pig_latin_sentence = translate_to_pig_latin(sentence)\n",
        "    print(pig_latin_sentence)"
      ],
      "execution_count": null,
      "outputs": []
    }
  ]
}